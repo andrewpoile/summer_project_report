{
 "cells": [
  {
   "cell_type": "markdown",
   "id": "43d753b1",
   "metadata": {},
   "source": [
    "# Practice"
   ]
  },
  {
   "cell_type": "markdown",
   "id": "56f209e5",
   "metadata": {},
   "source": [
    "## Objects\n",
    "\n",
    "Finite and disjoint sets of students and schools: S and C respectively. Set of types T and transport routes R. For simplicity, type is binary.\n",
    "\n",
    "$$S = \\{s,...,n_S\\}$$\n",
    "$$C = \\{c,...,n_C\\}$$\n",
    "$$T = \\{Low, High\\}$$\n",
    "$$R = \\{r,...,n_R\\}$$\n",
    "\n",
    "\n",
    "\n",
    "with $|S| = n_S$, $|C| = n_C$, $|T| = 2$, and $|R| = n_R$."
   ]
  },
  {
   "cell_type": "markdown",
   "id": "7766aa0e",
   "metadata": {},
   "source": [
    "Each school $c \\in C$ and route $r \\in R$ has a capacity $k_c,k_r \\in \\Z \\geq 0$ respectively, and each route $r$ serves a subset of schools $C_r \\subseteq C$. The Cartesian product of the route and subset of schools served by the route\n",
    "$$B = \\sum_{r}^{n_R} r \\times C_r$$\n",
    "is included in the preferences lists of students."
   ]
  },
  {
   "cell_type": "markdown",
   "id": "b6a94b10",
   "metadata": {},
   "source": [
    "Finite and disjoint sets of student preferences over schools, and school priorities over students. Start simple with complete and strict preferences, and complete and strict priorities. Preference lists include all valid combinations of route and school: $\\{r,c_r\\}$.\n",
    "\n",
    "Students *within* a certain distance selecting a school **without** transport, and *outside* a certain distance selecting a school **with** transport are placed in the same priority bracket, and placed above the other applicants (to incentivise distant parents to apply to a school while disincentivising parents to drive their children to school by car).\n",
    "\n",
    "$\\forall s \\in S$ let $P_s$ be the strict and complete preference list over $A = C \\cup B$ for all $c \\in C$ and $\\{r,c_r\\} \\in B$ where $a \\succ_{s} a'$ denotes a strict preference of an object $a \\in A$ over $a' \\in A$.\n",
    "\n",
    "$\\forall c \\in C$ let $\\prec_{c}$ be the strict and complete priority list over all students $s \\in S$. *Maybe have the above priority and just break ties randomly?*\n",
    "\n",
    "$\\forall r \\in R$ let $\\prec_{r}$ be the strict and complete priority list over all students $s \\in S$."
   ]
  },
  {
   "cell_type": "markdown",
   "id": "dbe6340d",
   "metadata": {},
   "source": [
    "## Algorithm\n",
    "\n",
    "Allocation is run using a flavour of deferred acceptance, with each student ultimately being accepted into at most one school:\n",
    "\n",
    "1. All objects unassigned. $\\mu = \\emptyset$\n",
    "\n",
    "2. While some student $s_i$ is unmatched:\n",
    "\n",
    "    - $s_i$ proposes to the first object $a_j$ on their list; $\\mu = \\mu \\cup \\{s_i, a_j\\}$. Each object $a$ contains exactly one school.\n",
    "    - If the school in the object is oversubscribed:\n",
    "        - The lowest priority student $s_k$ in $\\prec_{c_{a_j}}$ is released: $\\mu = \\mu \\backslash \\{s_k, a_j\\}$ and all students of lower priority than s_k are removed from the school in $a_j$ (and all of those students remove objects that contain the school in $a_j$ from their preference lists).\n",
    "    - If the route in the object has reached capacity:\n",
    "        - The lowest priority student $s_k$ in $\\prec_{r_{a_j}}$ is released: $\\mu = \\mu \\ \\{s_k, a_j\\}$ and all students of lower priority than s_k are removed from the route in $a_j$ (and all of those students remove objects that contain the route in $a_j$ from their preference lists)."
   ]
  },
  {
   "cell_type": "markdown",
   "id": "75b9236f",
   "metadata": {},
   "source": [
    "## Diversity evaluation\n",
    "\n",
    "The diversity at each school can be measured using a dissimilarity index since we only have 2 types:\n",
    "\n",
    "$$D = \\frac{1}{2} \\sum_{i} |\\frac{L_i}{L_T} - \\frac{H_i}{H_T}|$$\n",
    "\n",
    "where $L_T$ and $H_T$ are the total number of low and high types respectively. An index of 0 represents full integration, and an index of 1 represents full segregation.\n",
    "\n",
    "We are not explicitly using quotas to enforce integration, rather affecting preferences through incentives inherent in the mechanism. This will probably require an agent based model to test in a simulacrum of urban environments."
   ]
  },
  {
   "cell_type": "markdown",
   "id": "e95146fb",
   "metadata": {},
   "source": [
    "## Potential issues: \n",
    "- the only disadvantage to distant parents selecting a school+transport bundle and driving to school anyway is the cost they incur in driving, and given that there is limited capacity on the transport, this reduces the efficiency. *Maybe tax them directly for driving and fund the transport using the tickets?*\n",
    "- if schools have bespoke priorities and routes do not have any priorities, and route capacity is filled as the algorithm runs, then the algorithm is not deterministic since the order of the students in the algorithm will affect the matching."
   ]
  },
  {
   "cell_type": "markdown",
   "id": "4379ac3e",
   "metadata": {},
   "source": [
    "## Further work\n",
    "\n",
    "- How to capture the distribution of types in a real environment, with heterogeneous preferences.\n",
    "- Check if algorithm assigns all students (*it probably should if $|S| \\leq k_c$ and preference lists are complete?*)"
   ]
  },
  {
   "cell_type": "markdown",
   "id": "8ee2a7bb",
   "metadata": {},
   "source": []
  }
 ],
 "metadata": {
  "language_info": {
   "name": "python"
  }
 },
 "nbformat": 4,
 "nbformat_minor": 5
}
